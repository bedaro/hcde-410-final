{
 "cells": [
  {
   "cell_type": "markdown",
   "metadata": {},
   "source": [
    "# Climate Data Fetch, Cleanup, and Save\n",
    "\n",
    "This notebook downloads climate data from NOAA's FTP server for all stations listed in the stations file, and for the specified years. Cleanup and processing of the data is then performed to get each dataset into a single Pandas DataFrame, which is then written out to a file.\n",
    "\n",
    "## Parameters\n",
    "\n",
    "**stations_file**: the name of the CSV listing all the Meteoroligcal stations to look for. The first column is\n",
    "the index of station IDs from NOAA's Integrated Surface Database (ISD). See https://www.ncdc.noaa.gov/isd/data-access\n",
    "\n",
    "**fetch_host**: the domain name of the FTP server where the files are.\n",
    "\n",
    "**fetch_dir**: the pattern of the directory structure containing the files."
   ]
  },
  {
   "cell_type": "code",
   "execution_count": 1,
   "metadata": {},
   "outputs": [],
   "source": [
    "stations_file = \"Salish Sea met stations.csv\"\n",
    "fetch_host = \"ftp.ncei.noaa.gov\"\n",
    "fetch_dir = \"/pub/data/noaa/isd-lite/{year}/\""
   ]
  },
  {
   "cell_type": "markdown",
   "metadata": {},
   "source": [
    "ftplib is included with Python 3. Pandas is required."
   ]
  },
  {
   "cell_type": "code",
   "execution_count": 2,
   "metadata": {},
   "outputs": [],
   "source": [
    "import pandas as pd\n",
    "from ftplib import FTP"
   ]
  },
  {
   "cell_type": "markdown",
   "metadata": {},
   "source": [
    "Read the stations CSV into a Pandas dataframe, indexed by the ISD number (column 0)"
   ]
  },
  {
   "cell_type": "code",
   "execution_count": 3,
   "metadata": {},
   "outputs": [
    {
     "data": {
      "text/html": [
       "<div>\n",
       "<style scoped>\n",
       "    .dataframe tbody tr th:only-of-type {\n",
       "        vertical-align: middle;\n",
       "    }\n",
       "\n",
       "    .dataframe tbody tr th {\n",
       "        vertical-align: top;\n",
       "    }\n",
       "\n",
       "    .dataframe thead th {\n",
       "        text-align: right;\n",
       "    }\n",
       "</style>\n",
       "<table border=\"1\" class=\"dataframe\">\n",
       "  <thead>\n",
       "    <tr style=\"text-align: right;\">\n",
       "      <th></th>\n",
       "      <th>Name</th>\n",
       "    </tr>\n",
       "    <tr>\n",
       "      <th>ISD number</th>\n",
       "      <th></th>\n",
       "    </tr>\n",
       "  </thead>\n",
       "  <tbody>\n",
       "    <tr>\n",
       "      <th>727935-24234</th>\n",
       "      <td>Boeing Field</td>\n",
       "    </tr>\n",
       "    <tr>\n",
       "      <th>727935-99999</th>\n",
       "      <td>Boeing Field King Co</td>\n",
       "    </tr>\n",
       "    <tr>\n",
       "      <th>727976-24217</th>\n",
       "      <td>Bellingham Airport</td>\n",
       "    </tr>\n",
       "    <tr>\n",
       "      <th>720749-24255</th>\n",
       "      <td>Whidbey Airport</td>\n",
       "    </tr>\n",
       "    <tr>\n",
       "      <th>727923-94225</th>\n",
       "      <td>Hoquiam Airport</td>\n",
       "    </tr>\n",
       "  </tbody>\n",
       "</table>\n",
       "</div>"
      ],
      "text/plain": [
       "                              Name\n",
       "ISD number                        \n",
       "727935-24234          Boeing Field\n",
       "727935-99999  Boeing Field King Co\n",
       "727976-24217    Bellingham Airport\n",
       "720749-24255       Whidbey Airport\n",
       "727923-94225       Hoquiam Airport"
      ]
     },
     "execution_count": 3,
     "metadata": {},
     "output_type": "execute_result"
    }
   ],
   "source": [
    "stations = pd.read_csv(stations_file, index_col=0)\n",
    "stations.head()"
   ]
  },
  {
   "cell_type": "markdown",
   "metadata": {},
   "source": [
    "Connect to the FTP server.\n",
    "\n",
    "Note that the server has an inactivity timeout, so you may need to re-run this cell to reconnect if you get\n",
    "a timeout message later on."
   ]
  },
  {
   "cell_type": "code",
   "execution_count": 4,
   "metadata": {},
   "outputs": [
    {
     "data": {
      "text/plain": [
       "'230-****** WARNING ** WARNING ** WARNING ** WARNING ** WARNING ** ** WARNING ** WARNING ** WARNING ******\\n ** You are accessing a U.S. Government information system, which includes:                         **\\n ** 1) This computer, 2)This computer network, 3) All computers connected to this network, and      **\\n ** 4) All devices and storage media attached to this network or to a computer on this network.     **\\n ** You understand and consent to the following:                                                    **\\n ** you may access this information system for authorized use only; you have no reasonable          **\\n ** expectation of privacy regarding any communication of data transiting or stored on this         **\\n ** information system; at any time and for any lawful Government purpose, the Government may       **\\n ** monitor, intercept, and search and seize any communication or data transiting or stored on      **\\n ** this information system; and any communications or data transiting or stored on this            **\\n ** information system may be disclosed or used for any lawful Government purpose.                  **\\n ****** WARNING ** WARNING ** WARNING ** WARNING ** WARNING ** ** WARNING ** WARNING ** WARNING ******\\n230 Anonymous'"
      ]
     },
     "execution_count": 4,
     "metadata": {},
     "output_type": "execute_result"
    }
   ],
   "source": [
    "ftp = FTP(fetch_host)\n",
    "ftp.login()"
   ]
  },
  {
   "cell_type": "markdown",
   "metadata": {},
   "source": [
    "The main code. Each file is a single station (named by station ID) for a single year. So iterate over the years,\n",
    "and download all the available station files. The files which are available are determined by retrieving an FTP file listing, running the function file_callback on each one to check if it is in the stations Dataframe. If it is, add it to the list `avail_files`, which then gets iterated on to download the files one by one."
   ]
  },
  {
   "cell_type": "code",
   "execution_count": 5,
   "metadata": {},
   "outputs": [],
   "source": [
    "def do_download(ftp, stations, years, save_dir):\n",
    "    avail_files = []\n",
    "    def file_callback(line):\n",
    "        filename = \" \".join(line.split()).split(\" \")[-1]\n",
    "        stationid = filename[0:12]\n",
    "        if stationid in stations.index:\n",
    "            avail_files.append(filename)\n",
    "\n",
    "    for year in years:\n",
    "        avail_files = []\n",
    "        ftp.cwd(fetch_dir.format(year=year))\n",
    "        ftp.retrlines('LIST', callback = file_callback)\n",
    "        for f in avail_files:\n",
    "            with open(save_dir + f, 'wb') as fp:\n",
    "                ftp.retrbinary(\"RETR {0}\".format(f), fp.write)"
   ]
  },
  {
   "cell_type": "markdown",
   "metadata": {},
   "source": [
    "Download all the climate data for all stations in the DF since 1980.\n",
    "\n",
    "This cell can take a while to run."
   ]
  },
  {
   "cell_type": "code",
   "execution_count": 6,
   "metadata": {},
   "outputs": [],
   "source": [
    "do_download(ftp, stations, range(1980, 2021), \"data/all-since-1980/\")"
   ]
  },
  {
   "cell_type": "markdown",
   "metadata": {},
   "source": [
    "When the download is finished, all the files will be in the save_dir. Files are gzipped.\n",
    "Processing of the files is done next."
   ]
  },
  {
   "cell_type": "markdown",
   "metadata": {},
   "source": [
    "# Process Climate Data\n",
    "\n",
    "Assembles all climate data files downloaded from NOAA's ISD-Lite dataset into a single Pandas DataFrame and\n",
    "saves to a CSV output file.\n",
    "\n",
    "Pandas' optional dependency `tables` is required. re, gzip and os are included with Python 3."
   ]
  },
  {
   "cell_type": "code",
   "execution_count": 7,
   "metadata": {},
   "outputs": [],
   "source": [
    "import numpy as np\n",
    "import matplotlib.pyplot as plt\n",
    "import gzip\n",
    "import os\n",
    "import re"
   ]
  },
  {
   "cell_type": "markdown",
   "metadata": {},
   "source": [
    "For every file in the `data_dir` whose name matches `file_pattern`, load the data (via gzip) into Pandas as a fixed-width file. Perform the raw processing necessary to convert the raw integers into the proper scale and assemble the datetime objects. All DataFrames get concatenated together into one big DataFrame at the end."
   ]
  },
  {
   "cell_type": "code",
   "execution_count": 8,
   "metadata": {},
   "outputs": [],
   "source": [
    "# A compiled regex that matches all ISD-Lite file names. The first group in the file should match the station ID.\n",
    "file_pattern = re.compile('([0-9-]{12})-[0-9]{4}\\.gz')\n",
    "\n",
    "def do_process(data_dir):\n",
    "    dfs = []\n",
    "    for f in os.listdir(data_dir):\n",
    "        m = file_pattern.match(f)\n",
    "        if m:\n",
    "            with gzip.open(data_dir + f) as fp:\n",
    "                # Widths must be specified!\n",
    "                df = pd.read_fwf(fp, names=(\n",
    "                    'year','month','day','hour','temp','dewpt','slp_hpa','wind_dir','wind_speed','skycond',\n",
    "                    'precip_1hr','precip_6hr'), na_values=-9999,\n",
    "                    widths=(4,3,3,3,6,6,6,6,6,6,6,6))\n",
    "                # Adjust values per ISD format documentation\n",
    "                for col in ('wind_speed','temp','dewpt','slp_hpa','precip_1hr','precip_6hr'):\n",
    "                    df[col] /= 10\n",
    "                # Parse the date info\n",
    "                date_cols = ['year','month','day','hour']\n",
    "                df['date'] = pd.to_datetime(df[date_cols])\n",
    "                df['station_id'] = m.group(1)\n",
    "                dfs.append(df)\n",
    "    df = pd.concat(dfs, ignore_index=True)\n",
    "\n",
    "    # Perform some cleanup to remove junk\n",
    "    \n",
    "    # Set wind_dir to NaN if it was coded as 0 (calm winds)\n",
    "    df.loc[df['wind_dir'] == 0, 'wind_dir'] = np.nan\n",
    "\n",
    "    cols_in_order = ['station_id','date','temp','dewpt','slp_hpa','wind_dir','wind_speed','skycond','precip_1hr','precip_6hr']\n",
    "    df = df[cols_in_order]\n",
    "    \n",
    "    return df"
   ]
  },
  {
   "cell_type": "markdown",
   "metadata": {},
   "source": [
    "## All Station Data Since 1980\n",
    "\n",
    "Process the initial 1980 to present data set"
   ]
  },
  {
   "cell_type": "code",
   "execution_count": 9,
   "metadata": {},
   "outputs": [
    {
     "data": {
      "text/html": [
       "<div>\n",
       "<style scoped>\n",
       "    .dataframe tbody tr th:only-of-type {\n",
       "        vertical-align: middle;\n",
       "    }\n",
       "\n",
       "    .dataframe tbody tr th {\n",
       "        vertical-align: top;\n",
       "    }\n",
       "\n",
       "    .dataframe thead th {\n",
       "        text-align: right;\n",
       "    }\n",
       "</style>\n",
       "<table border=\"1\" class=\"dataframe\">\n",
       "  <thead>\n",
       "    <tr style=\"text-align: right;\">\n",
       "      <th></th>\n",
       "      <th>station_id</th>\n",
       "      <th>date</th>\n",
       "      <th>temp</th>\n",
       "      <th>dewpt</th>\n",
       "      <th>slp_hpa</th>\n",
       "      <th>wind_dir</th>\n",
       "      <th>wind_speed</th>\n",
       "      <th>skycond</th>\n",
       "      <th>precip_1hr</th>\n",
       "      <th>precip_6hr</th>\n",
       "    </tr>\n",
       "  </thead>\n",
       "  <tbody>\n",
       "    <tr>\n",
       "      <th>0</th>\n",
       "      <td>727935-24234</td>\n",
       "      <td>1990-01-01 00:00:00</td>\n",
       "      <td>7.8</td>\n",
       "      <td>6.1</td>\n",
       "      <td>NaN</td>\n",
       "      <td>190.0</td>\n",
       "      <td>5.1</td>\n",
       "      <td>7.0</td>\n",
       "      <td>NaN</td>\n",
       "      <td>NaN</td>\n",
       "    </tr>\n",
       "    <tr>\n",
       "      <th>1</th>\n",
       "      <td>727935-24234</td>\n",
       "      <td>1990-01-01 01:00:00</td>\n",
       "      <td>8.3</td>\n",
       "      <td>6.7</td>\n",
       "      <td>NaN</td>\n",
       "      <td>180.0</td>\n",
       "      <td>6.7</td>\n",
       "      <td>8.0</td>\n",
       "      <td>NaN</td>\n",
       "      <td>NaN</td>\n",
       "    </tr>\n",
       "    <tr>\n",
       "      <th>2</th>\n",
       "      <td>727935-24234</td>\n",
       "      <td>1990-01-01 02:00:00</td>\n",
       "      <td>7.8</td>\n",
       "      <td>6.1</td>\n",
       "      <td>NaN</td>\n",
       "      <td>190.0</td>\n",
       "      <td>6.7</td>\n",
       "      <td>8.0</td>\n",
       "      <td>NaN</td>\n",
       "      <td>NaN</td>\n",
       "    </tr>\n",
       "    <tr>\n",
       "      <th>3</th>\n",
       "      <td>727935-24234</td>\n",
       "      <td>1990-01-01 03:00:00</td>\n",
       "      <td>7.8</td>\n",
       "      <td>6.1</td>\n",
       "      <td>NaN</td>\n",
       "      <td>190.0</td>\n",
       "      <td>5.1</td>\n",
       "      <td>8.0</td>\n",
       "      <td>NaN</td>\n",
       "      <td>NaN</td>\n",
       "    </tr>\n",
       "    <tr>\n",
       "      <th>4</th>\n",
       "      <td>727935-24234</td>\n",
       "      <td>1990-01-01 04:00:00</td>\n",
       "      <td>7.8</td>\n",
       "      <td>6.1</td>\n",
       "      <td>NaN</td>\n",
       "      <td>190.0</td>\n",
       "      <td>5.1</td>\n",
       "      <td>8.0</td>\n",
       "      <td>NaN</td>\n",
       "      <td>NaN</td>\n",
       "    </tr>\n",
       "    <tr>\n",
       "      <th>...</th>\n",
       "      <td>...</td>\n",
       "      <td>...</td>\n",
       "      <td>...</td>\n",
       "      <td>...</td>\n",
       "      <td>...</td>\n",
       "      <td>...</td>\n",
       "      <td>...</td>\n",
       "      <td>...</td>\n",
       "      <td>...</td>\n",
       "      <td>...</td>\n",
       "    </tr>\n",
       "    <tr>\n",
       "      <th>3822344</th>\n",
       "      <td>727970-94240</td>\n",
       "      <td>2018-12-31 19:00:00</td>\n",
       "      <td>1.7</td>\n",
       "      <td>0.6</td>\n",
       "      <td>1032.7</td>\n",
       "      <td>70.0</td>\n",
       "      <td>1.5</td>\n",
       "      <td>0.0</td>\n",
       "      <td>0.0</td>\n",
       "      <td>NaN</td>\n",
       "    </tr>\n",
       "    <tr>\n",
       "      <th>3822345</th>\n",
       "      <td>727970-94240</td>\n",
       "      <td>2018-12-31 20:00:00</td>\n",
       "      <td>2.8</td>\n",
       "      <td>0.6</td>\n",
       "      <td>1032.3</td>\n",
       "      <td>80.0</td>\n",
       "      <td>2.1</td>\n",
       "      <td>0.0</td>\n",
       "      <td>0.0</td>\n",
       "      <td>NaN</td>\n",
       "    </tr>\n",
       "    <tr>\n",
       "      <th>3822346</th>\n",
       "      <td>727970-94240</td>\n",
       "      <td>2018-12-31 21:00:00</td>\n",
       "      <td>4.4</td>\n",
       "      <td>1.1</td>\n",
       "      <td>1031.6</td>\n",
       "      <td>NaN</td>\n",
       "      <td>0.0</td>\n",
       "      <td>2.0</td>\n",
       "      <td>0.0</td>\n",
       "      <td>NaN</td>\n",
       "    </tr>\n",
       "    <tr>\n",
       "      <th>3822347</th>\n",
       "      <td>727970-94240</td>\n",
       "      <td>2018-12-31 22:00:00</td>\n",
       "      <td>6.1</td>\n",
       "      <td>1.7</td>\n",
       "      <td>1031.8</td>\n",
       "      <td>NaN</td>\n",
       "      <td>0.0</td>\n",
       "      <td>NaN</td>\n",
       "      <td>0.0</td>\n",
       "      <td>NaN</td>\n",
       "    </tr>\n",
       "    <tr>\n",
       "      <th>3822348</th>\n",
       "      <td>727970-94240</td>\n",
       "      <td>2018-12-31 23:00:00</td>\n",
       "      <td>6.1</td>\n",
       "      <td>1.1</td>\n",
       "      <td>1032.2</td>\n",
       "      <td>NaN</td>\n",
       "      <td>0.0</td>\n",
       "      <td>NaN</td>\n",
       "      <td>0.0</td>\n",
       "      <td>NaN</td>\n",
       "    </tr>\n",
       "  </tbody>\n",
       "</table>\n",
       "<p>3822349 rows × 10 columns</p>\n",
       "</div>"
      ],
      "text/plain": [
       "           station_id                date  temp  dewpt  slp_hpa  wind_dir  \\\n",
       "0        727935-24234 1990-01-01 00:00:00   7.8    6.1      NaN     190.0   \n",
       "1        727935-24234 1990-01-01 01:00:00   8.3    6.7      NaN     180.0   \n",
       "2        727935-24234 1990-01-01 02:00:00   7.8    6.1      NaN     190.0   \n",
       "3        727935-24234 1990-01-01 03:00:00   7.8    6.1      NaN     190.0   \n",
       "4        727935-24234 1990-01-01 04:00:00   7.8    6.1      NaN     190.0   \n",
       "...               ...                 ...   ...    ...      ...       ...   \n",
       "3822344  727970-94240 2018-12-31 19:00:00   1.7    0.6   1032.7      70.0   \n",
       "3822345  727970-94240 2018-12-31 20:00:00   2.8    0.6   1032.3      80.0   \n",
       "3822346  727970-94240 2018-12-31 21:00:00   4.4    1.1   1031.6       NaN   \n",
       "3822347  727970-94240 2018-12-31 22:00:00   6.1    1.7   1031.8       NaN   \n",
       "3822348  727970-94240 2018-12-31 23:00:00   6.1    1.1   1032.2       NaN   \n",
       "\n",
       "         wind_speed  skycond  precip_1hr  precip_6hr  \n",
       "0               5.1      7.0         NaN         NaN  \n",
       "1               6.7      8.0         NaN         NaN  \n",
       "2               6.7      8.0         NaN         NaN  \n",
       "3               5.1      8.0         NaN         NaN  \n",
       "4               5.1      8.0         NaN         NaN  \n",
       "...             ...      ...         ...         ...  \n",
       "3822344         1.5      0.0         0.0         NaN  \n",
       "3822345         2.1      0.0         0.0         NaN  \n",
       "3822346         0.0      2.0         0.0         NaN  \n",
       "3822347         0.0      NaN         0.0         NaN  \n",
       "3822348         0.0      NaN         0.0         NaN  \n",
       "\n",
       "[3822349 rows x 10 columns]"
      ]
     },
     "execution_count": 9,
     "metadata": {},
     "output_type": "execute_result"
    }
   ],
   "source": [
    "all_since_1980 = do_process(\"data/all-since-1980/\")\n",
    "all_since_1980"
   ]
  },
  {
   "cell_type": "markdown",
   "metadata": {},
   "source": [
    "Load the met stations CSV."
   ]
  },
  {
   "cell_type": "code",
   "execution_count": 10,
   "metadata": {},
   "outputs": [
    {
     "data": {
      "text/html": [
       "<div>\n",
       "<style scoped>\n",
       "    .dataframe tbody tr th:only-of-type {\n",
       "        vertical-align: middle;\n",
       "    }\n",
       "\n",
       "    .dataframe tbody tr th {\n",
       "        vertical-align: top;\n",
       "    }\n",
       "\n",
       "    .dataframe thead th {\n",
       "        text-align: right;\n",
       "    }\n",
       "</style>\n",
       "<table border=\"1\" class=\"dataframe\">\n",
       "  <thead>\n",
       "    <tr style=\"text-align: right;\">\n",
       "      <th></th>\n",
       "      <th>ISD number</th>\n",
       "      <th>Name</th>\n",
       "    </tr>\n",
       "  </thead>\n",
       "  <tbody>\n",
       "    <tr>\n",
       "      <th>0</th>\n",
       "      <td>727935-24234</td>\n",
       "      <td>Boeing Field</td>\n",
       "    </tr>\n",
       "    <tr>\n",
       "      <th>1</th>\n",
       "      <td>727935-99999</td>\n",
       "      <td>Boeing Field King Co</td>\n",
       "    </tr>\n",
       "    <tr>\n",
       "      <th>2</th>\n",
       "      <td>727976-24217</td>\n",
       "      <td>Bellingham Airport</td>\n",
       "    </tr>\n",
       "    <tr>\n",
       "      <th>3</th>\n",
       "      <td>720749-24255</td>\n",
       "      <td>Whidbey Airport</td>\n",
       "    </tr>\n",
       "    <tr>\n",
       "      <th>4</th>\n",
       "      <td>727923-94225</td>\n",
       "      <td>Hoquiam Airport</td>\n",
       "    </tr>\n",
       "  </tbody>\n",
       "</table>\n",
       "</div>"
      ],
      "text/plain": [
       "     ISD number                  Name\n",
       "0  727935-24234          Boeing Field\n",
       "1  727935-99999  Boeing Field King Co\n",
       "2  727976-24217    Bellingham Airport\n",
       "3  720749-24255       Whidbey Airport\n",
       "4  727923-94225       Hoquiam Airport"
      ]
     },
     "execution_count": 10,
     "metadata": {},
     "output_type": "execute_result"
    }
   ],
   "source": [
    "stations_file = 'Salish Sea met stations.csv'\n",
    "stations = pd.read_csv(stations_file)\n",
    "stations.head()"
   ]
  },
  {
   "cell_type": "markdown",
   "metadata": {},
   "source": [
    "How many stations have at least some data for each year?"
   ]
  },
  {
   "cell_type": "code",
   "execution_count": 11,
   "metadata": {},
   "outputs": [
    {
     "data": {
      "text/plain": [
       "[Text(0, 0.5, 'Unique stations with >1 wind observation'),\n",
       " Text(0.5, 0, 'Year'),\n",
       " Text(0.5, 1.0, 'Number of wind observing stations by year')]"
      ]
     },
     "execution_count": 11,
     "metadata": {},
     "output_type": "execute_result"
    },
    {
     "data": {
      "image/png": "[encoded data removed]",
      "text/plain": [
       "<Figure size 432x288 with 1 Axes>"
      ]
     },
     "metadata": {
      "needs_background": "light"
     },
     "output_type": "display_data"
    }
   ],
   "source": [
    "years = all_since_1980['date'].dt.year.sort_values().unique()\n",
    "station_count = np.zeros_like(years)\n",
    "for i, year in enumerate(years):\n",
    "    # Get all the wind observations made in this year, then drop any rows which do not contain at least one\n",
    "    # observation of wind (station_id is guaranteed to be non-NaN, so the threshold needs to be two)\n",
    "    data_this_year = all_since_1980.loc[all_since_1980['date'].dt.year == year, ['station_id','wind_speed','wind_dir']].dropna(thresh=2)\n",
    "    station_count[i] = len(data_this_year.groupby('station_id').count())\n",
    "fig, ax = plt.subplots()\n",
    "ax.plot(years, station_count)\n",
    "ax.set(title=\"Number of wind observing stations by year\", xlabel=\"Year\", ylabel=\"Unique stations with >1 wind observation\")"
   ]
  },
  {
   "cell_type": "markdown",
   "metadata": {},
   "source": [
    "## Extract the Long-Run Station IDs\n",
    "\n",
    "Okay, so there is not a record that is both spatially detailed and goes back many decades. Instead, let's figure out which stations go back the longest (there are at most 8 of those), and exactly which year all 16 recent stations came online.\n",
    "\n",
    "Let's start by looking at all the unique station IDs for 1990, and merging with the stations list to see which those are."
   ]
  },
  {
   "cell_type": "code",
   "execution_count": 12,
   "metadata": {},
   "outputs": [
    {
     "data": {
      "text/html": [
       "<div>\n",
       "<style scoped>\n",
       "    .dataframe tbody tr th:only-of-type {\n",
       "        vertical-align: middle;\n",
       "    }\n",
       "\n",
       "    .dataframe tbody tr th {\n",
       "        vertical-align: top;\n",
       "    }\n",
       "\n",
       "    .dataframe thead th {\n",
       "        text-align: right;\n",
       "    }\n",
       "</style>\n",
       "<table border=\"1\" class=\"dataframe\">\n",
       "  <thead>\n",
       "    <tr style=\"text-align: right;\">\n",
       "      <th></th>\n",
       "      <th>ISD number</th>\n",
       "      <th>Name</th>\n",
       "    </tr>\n",
       "  </thead>\n",
       "  <tbody>\n",
       "    <tr>\n",
       "      <th>0</th>\n",
       "      <td>727935-24234</td>\n",
       "      <td>Boeing Field</td>\n",
       "    </tr>\n",
       "    <tr>\n",
       "      <th>2</th>\n",
       "      <td>727976-24217</td>\n",
       "      <td>Bellingham Airport</td>\n",
       "    </tr>\n",
       "    <tr>\n",
       "      <th>5</th>\n",
       "      <td>727970-94240</td>\n",
       "      <td>Quillayute Airport</td>\n",
       "    </tr>\n",
       "    <tr>\n",
       "      <th>6</th>\n",
       "      <td>727930-24233</td>\n",
       "      <td>Seatac Airport</td>\n",
       "    </tr>\n",
       "    <tr>\n",
       "      <th>7</th>\n",
       "      <td>727920-24227</td>\n",
       "      <td>Olympia Airport</td>\n",
       "    </tr>\n",
       "    <tr>\n",
       "      <th>13</th>\n",
       "      <td>742065-99999</td>\n",
       "      <td>Point No Point CG Station</td>\n",
       "    </tr>\n",
       "    <tr>\n",
       "      <th>14</th>\n",
       "      <td>994350-99999</td>\n",
       "      <td>West Point</td>\n",
       "    </tr>\n",
       "    <tr>\n",
       "      <th>19</th>\n",
       "      <td>714730-99999</td>\n",
       "      <td>Saturna Island</td>\n",
       "    </tr>\n",
       "  </tbody>\n",
       "</table>\n",
       "</div>"
      ],
      "text/plain": [
       "      ISD number                       Name\n",
       "0   727935-24234               Boeing Field\n",
       "2   727976-24217         Bellingham Airport\n",
       "5   727970-94240         Quillayute Airport\n",
       "6   727930-24233             Seatac Airport\n",
       "7   727920-24227            Olympia Airport\n",
       "13  742065-99999  Point No Point CG Station\n",
       "14  994350-99999                 West Point\n",
       "19  714730-99999             Saturna Island"
      ]
     },
     "execution_count": 12,
     "metadata": {},
     "output_type": "execute_result"
    }
   ],
   "source": [
    "stationids_1990 = all_since_1980.loc[all_since_1980['date'].dt.year == 1990, 'station_id'].unique()\n",
    "stations.loc[stations['ISD number'].isin(stationids_1990)]"
   ]
  },
  {
   "cell_type": "markdown",
   "metadata": {},
   "source": [
    "Do all of those stations have data up to the last year we fetched?"
   ]
  },
  {
   "cell_type": "code",
   "execution_count": 13,
   "metadata": {},
   "outputs": [
    {
     "data": {
      "text/plain": [
       "[Text(0, 0.5, 'Observations per month'),\n",
       " Text(0.5, 0, 'Date'),\n",
       " Text(0.5, 1.0, 'Wind Speed observations per month for all active stations as of 1990')]"
      ]
     },
     "execution_count": 13,
     "metadata": {},
     "output_type": "execute_result"
    },
    {
     "data": {
      "image/png": "[encoded data removed]",
      "text/plain": [
       "<Figure size 432x288 with 1 Axes>"
      ]
     },
     "metadata": {
      "needs_background": "light"
     },
     "output_type": "display_data"
    }
   ],
   "source": [
    "years = all_since_1980['date'].dt.year.sort_values().unique()\n",
    "longrun_data = all_since_1980.loc[all_since_1980['station_id'].isin(stationids_1990), ['station_id','date','wind_speed','wind_dir']].dropna(thresh=2)\n",
    "longrun_data['yearmonth'] = longrun_data['date'].dt.year + (longrun_data['date'].dt.month - 1) / 12\n",
    "counts = longrun_data.groupby(['station_id','yearmonth']).count()\n",
    "fig, ax = plt.subplots()\n",
    "for name,group in counts.groupby(level=0):\n",
    "    ax.plot(group.index.get_level_values(1).to_numpy(), group['wind_speed'].to_numpy(), label=name)\n",
    "ax.legend()\n",
    "ax.set(title=\"Wind Speed observations per month for all active stations as of 1990\", ylabel=\"Observations per month\", xlabel=\"Date\")"
   ]
  },
  {
   "cell_type": "markdown",
   "metadata": {},
   "source": [
    "Okay, so Saturna Island (714730-99999) and Point No Point (742065-99999) stations do not have much data. We need to exclude those, leaving us with only six stations. The others look like they only have brief blips of unavailability."
   ]
  },
  {
   "cell_type": "code",
   "execution_count": 14,
   "metadata": {},
   "outputs": [
    {
     "data": {
      "text/plain": [
       "array(['727935-24234', '727920-24227', '727930-24233', '994350-99999',\n",
       "       '727976-24217', '727970-94240'], dtype=object)"
      ]
     },
     "execution_count": 14,
     "metadata": {},
     "output_type": "execute_result"
    }
   ],
   "source": [
    "longrun_stationids = stationids_1990[(stationids_1990 != '714730-99999') & (stationids_1990 != '742065-99999')]\n",
    "longrun_stationids"
   ]
  },
  {
   "cell_type": "markdown",
   "metadata": {},
   "source": [
    "## Fetch Long Run Dataset\n",
    "\n",
    "Create a subset of the overall stations CSV with just these six stations listed. This gets used to fetch climate data from ISD-Lite going back as far as we can"
   ]
  },
  {
   "cell_type": "code",
   "execution_count": 15,
   "metadata": {},
   "outputs": [],
   "source": [
    "longrun_stations = stations.loc[stations['ISD number'].isin(longrun_stationids)].set_index('ISD number')\n",
    "longrun_stations.to_csv('met_stations_longrun.csv')\n",
    "do_download(ftp, longrun_stations, range(1960, 2021), \"data/long-run-1960/\")"
   ]
  },
  {
   "cell_type": "markdown",
   "metadata": {},
   "source": [
    "Process the Long Run set"
   ]
  },
  {
   "cell_type": "code",
   "execution_count": 16,
   "metadata": {},
   "outputs": [
    {
     "data": {
      "text/html": [
       "<div>\n",
       "<style scoped>\n",
       "    .dataframe tbody tr th:only-of-type {\n",
       "        vertical-align: middle;\n",
       "    }\n",
       "\n",
       "    .dataframe tbody tr th {\n",
       "        vertical-align: top;\n",
       "    }\n",
       "\n",
       "    .dataframe thead th {\n",
       "        text-align: right;\n",
       "    }\n",
       "</style>\n",
       "<table border=\"1\" class=\"dataframe\">\n",
       "  <thead>\n",
       "    <tr style=\"text-align: right;\">\n",
       "      <th></th>\n",
       "      <th>station_id</th>\n",
       "      <th>date</th>\n",
       "      <th>temp</th>\n",
       "      <th>dewpt</th>\n",
       "      <th>slp_hpa</th>\n",
       "      <th>wind_dir</th>\n",
       "      <th>wind_speed</th>\n",
       "      <th>skycond</th>\n",
       "      <th>precip_1hr</th>\n",
       "      <th>precip_6hr</th>\n",
       "    </tr>\n",
       "  </thead>\n",
       "  <tbody>\n",
       "    <tr>\n",
       "      <th>0</th>\n",
       "      <td>727935-24234</td>\n",
       "      <td>1990-01-01 00:00:00</td>\n",
       "      <td>7.8</td>\n",
       "      <td>6.1</td>\n",
       "      <td>NaN</td>\n",
       "      <td>190.0</td>\n",
       "      <td>5.1</td>\n",
       "      <td>7.0</td>\n",
       "      <td>NaN</td>\n",
       "      <td>NaN</td>\n",
       "    </tr>\n",
       "    <tr>\n",
       "      <th>1</th>\n",
       "      <td>727935-24234</td>\n",
       "      <td>1990-01-01 01:00:00</td>\n",
       "      <td>8.3</td>\n",
       "      <td>6.7</td>\n",
       "      <td>NaN</td>\n",
       "      <td>180.0</td>\n",
       "      <td>6.7</td>\n",
       "      <td>8.0</td>\n",
       "      <td>NaN</td>\n",
       "      <td>NaN</td>\n",
       "    </tr>\n",
       "    <tr>\n",
       "      <th>2</th>\n",
       "      <td>727935-24234</td>\n",
       "      <td>1990-01-01 02:00:00</td>\n",
       "      <td>7.8</td>\n",
       "      <td>6.1</td>\n",
       "      <td>NaN</td>\n",
       "      <td>190.0</td>\n",
       "      <td>6.7</td>\n",
       "      <td>8.0</td>\n",
       "      <td>NaN</td>\n",
       "      <td>NaN</td>\n",
       "    </tr>\n",
       "    <tr>\n",
       "      <th>3</th>\n",
       "      <td>727935-24234</td>\n",
       "      <td>1990-01-01 03:00:00</td>\n",
       "      <td>7.8</td>\n",
       "      <td>6.1</td>\n",
       "      <td>NaN</td>\n",
       "      <td>190.0</td>\n",
       "      <td>5.1</td>\n",
       "      <td>8.0</td>\n",
       "      <td>NaN</td>\n",
       "      <td>NaN</td>\n",
       "    </tr>\n",
       "    <tr>\n",
       "      <th>4</th>\n",
       "      <td>727935-24234</td>\n",
       "      <td>1990-01-01 04:00:00</td>\n",
       "      <td>7.8</td>\n",
       "      <td>6.1</td>\n",
       "      <td>NaN</td>\n",
       "      <td>190.0</td>\n",
       "      <td>5.1</td>\n",
       "      <td>8.0</td>\n",
       "      <td>NaN</td>\n",
       "      <td>NaN</td>\n",
       "    </tr>\n",
       "    <tr>\n",
       "      <th>...</th>\n",
       "      <td>...</td>\n",
       "      <td>...</td>\n",
       "      <td>...</td>\n",
       "      <td>...</td>\n",
       "      <td>...</td>\n",
       "      <td>...</td>\n",
       "      <td>...</td>\n",
       "      <td>...</td>\n",
       "      <td>...</td>\n",
       "      <td>...</td>\n",
       "    </tr>\n",
       "    <tr>\n",
       "      <th>2473842</th>\n",
       "      <td>727970-94240</td>\n",
       "      <td>2018-12-31 19:00:00</td>\n",
       "      <td>1.7</td>\n",
       "      <td>0.6</td>\n",
       "      <td>1032.7</td>\n",
       "      <td>70.0</td>\n",
       "      <td>1.5</td>\n",
       "      <td>0.0</td>\n",
       "      <td>0.0</td>\n",
       "      <td>NaN</td>\n",
       "    </tr>\n",
       "    <tr>\n",
       "      <th>2473843</th>\n",
       "      <td>727970-94240</td>\n",
       "      <td>2018-12-31 20:00:00</td>\n",
       "      <td>2.8</td>\n",
       "      <td>0.6</td>\n",
       "      <td>1032.3</td>\n",
       "      <td>80.0</td>\n",
       "      <td>2.1</td>\n",
       "      <td>0.0</td>\n",
       "      <td>0.0</td>\n",
       "      <td>NaN</td>\n",
       "    </tr>\n",
       "    <tr>\n",
       "      <th>2473844</th>\n",
       "      <td>727970-94240</td>\n",
       "      <td>2018-12-31 21:00:00</td>\n",
       "      <td>4.4</td>\n",
       "      <td>1.1</td>\n",
       "      <td>1031.6</td>\n",
       "      <td>NaN</td>\n",
       "      <td>0.0</td>\n",
       "      <td>2.0</td>\n",
       "      <td>0.0</td>\n",
       "      <td>NaN</td>\n",
       "    </tr>\n",
       "    <tr>\n",
       "      <th>2473845</th>\n",
       "      <td>727970-94240</td>\n",
       "      <td>2018-12-31 22:00:00</td>\n",
       "      <td>6.1</td>\n",
       "      <td>1.7</td>\n",
       "      <td>1031.8</td>\n",
       "      <td>NaN</td>\n",
       "      <td>0.0</td>\n",
       "      <td>NaN</td>\n",
       "      <td>0.0</td>\n",
       "      <td>NaN</td>\n",
       "    </tr>\n",
       "    <tr>\n",
       "      <th>2473846</th>\n",
       "      <td>727970-94240</td>\n",
       "      <td>2018-12-31 23:00:00</td>\n",
       "      <td>6.1</td>\n",
       "      <td>1.1</td>\n",
       "      <td>1032.2</td>\n",
       "      <td>NaN</td>\n",
       "      <td>0.0</td>\n",
       "      <td>NaN</td>\n",
       "      <td>0.0</td>\n",
       "      <td>NaN</td>\n",
       "    </tr>\n",
       "  </tbody>\n",
       "</table>\n",
       "<p>2473847 rows × 10 columns</p>\n",
       "</div>"
      ],
      "text/plain": [
       "           station_id                date  temp  dewpt  slp_hpa  wind_dir  \\\n",
       "0        727935-24234 1990-01-01 00:00:00   7.8    6.1      NaN     190.0   \n",
       "1        727935-24234 1990-01-01 01:00:00   8.3    6.7      NaN     180.0   \n",
       "2        727935-24234 1990-01-01 02:00:00   7.8    6.1      NaN     190.0   \n",
       "3        727935-24234 1990-01-01 03:00:00   7.8    6.1      NaN     190.0   \n",
       "4        727935-24234 1990-01-01 04:00:00   7.8    6.1      NaN     190.0   \n",
       "...               ...                 ...   ...    ...      ...       ...   \n",
       "2473842  727970-94240 2018-12-31 19:00:00   1.7    0.6   1032.7      70.0   \n",
       "2473843  727970-94240 2018-12-31 20:00:00   2.8    0.6   1032.3      80.0   \n",
       "2473844  727970-94240 2018-12-31 21:00:00   4.4    1.1   1031.6       NaN   \n",
       "2473845  727970-94240 2018-12-31 22:00:00   6.1    1.7   1031.8       NaN   \n",
       "2473846  727970-94240 2018-12-31 23:00:00   6.1    1.1   1032.2       NaN   \n",
       "\n",
       "         wind_speed  skycond  precip_1hr  precip_6hr  \n",
       "0               5.1      7.0         NaN         NaN  \n",
       "1               6.7      8.0         NaN         NaN  \n",
       "2               6.7      8.0         NaN         NaN  \n",
       "3               5.1      8.0         NaN         NaN  \n",
       "4               5.1      8.0         NaN         NaN  \n",
       "...             ...      ...         ...         ...  \n",
       "2473842         1.5      0.0         0.0         NaN  \n",
       "2473843         2.1      0.0         0.0         NaN  \n",
       "2473844         0.0      2.0         0.0         NaN  \n",
       "2473845         0.0      NaN         0.0         NaN  \n",
       "2473846         0.0      NaN         0.0         NaN  \n",
       "\n",
       "[2473847 rows x 10 columns]"
      ]
     },
     "execution_count": 16,
     "metadata": {},
     "output_type": "execute_result"
    }
   ],
   "source": [
    "longrun = do_process(\"data/long-run-1960/\")\n",
    "longrun"
   ]
  },
  {
   "cell_type": "markdown",
   "metadata": {},
   "source": [
    "## Verification of Long-Run Station Completeness, Identification of Start Year"
   ]
  },
  {
   "cell_type": "code",
   "execution_count": 17,
   "metadata": {},
   "outputs": [
    {
     "data": {
      "text/plain": [
       "[Text(0, 0.5, 'Observations per month'),\n",
       " Text(0.5, 0, 'Date'),\n",
       " Text(0.5, 1.0, 'Wind Speed observations per month for long-running stations')]"
      ]
     },
     "execution_count": 17,
     "metadata": {},
     "output_type": "execute_result"
    },
    {
     "data": {
      "image/png": "[encoded data removed]",
      "text/plain": [
       "<Figure size 432x288 with 1 Axes>"
      ]
     },
     "metadata": {
      "needs_background": "light"
     },
     "output_type": "display_data"
    }
   ],
   "source": [
    "years = longrun['date'].dt.year.sort_values().unique()\n",
    "longrun['yearmonth'] = longrun['date'].dt.year + (longrun['date'].dt.month - 1) / 12\n",
    "counts = longrun.groupby(['station_id','yearmonth']).count()\n",
    "fig, ax = plt.subplots()\n",
    "for name,group in counts.groupby(level=0):\n",
    "    ax.plot(group.index.get_level_values(1).to_numpy(), group['wind_speed'].to_numpy(), label=name)\n",
    "ax.legend()\n",
    "ax.set(title=\"Wind Speed observations per month for long-running stations\", ylabel=\"Observations per month\", xlabel=\"Date\")"
   ]
  },
  {
   "cell_type": "markdown",
   "metadata": {},
   "source": [
    "The historical record for these stations looks like it starts to get pretty sparse before 1975 or so, so that's as far back as this analysis can actually go.\n",
    "\n",
    "Now, apply that filter to the dataset and save it to a file. HDF is used because it is a convenient compressed format. A CSV of this data would be quite large."
   ]
  },
  {
   "cell_type": "code",
   "execution_count": 18,
   "metadata": {},
   "outputs": [],
   "source": [
    "longrun = longrun.loc[longrun['date'].dt.year >= 1975]\n",
    "# Drop that extra column created earlier\n",
    "del longrun['yearmonth']\n",
    "longrun.to_hdf('data/climate_data_longrun1975.h5', 'longrun',\n",
    "               index=False, format='t', complib='zlib', complevel=9)"
   ]
  },
  {
   "cell_type": "markdown",
   "metadata": {},
   "source": [
    "## Extract the Recent Station IDs\n",
    "\n",
    "This follows a similar process to above. Get a list of all stations with observations in 2010, of which there are 16, and see whether their observation records are complete. Remove any stations from consideration which are missing large amounts of data, and settle on a start year for this part of the analysis."
   ]
  },
  {
   "cell_type": "code",
   "execution_count": 19,
   "metadata": {},
   "outputs": [
    {
     "data": {
      "text/html": [
       "<div>\n",
       "<style scoped>\n",
       "    .dataframe tbody tr th:only-of-type {\n",
       "        vertical-align: middle;\n",
       "    }\n",
       "\n",
       "    .dataframe tbody tr th {\n",
       "        vertical-align: top;\n",
       "    }\n",
       "\n",
       "    .dataframe thead th {\n",
       "        text-align: right;\n",
       "    }\n",
       "</style>\n",
       "<table border=\"1\" class=\"dataframe\">\n",
       "  <thead>\n",
       "    <tr style=\"text-align: right;\">\n",
       "      <th></th>\n",
       "      <th>ISD number</th>\n",
       "      <th>Name</th>\n",
       "    </tr>\n",
       "  </thead>\n",
       "  <tbody>\n",
       "    <tr>\n",
       "      <th>0</th>\n",
       "      <td>727935-24234</td>\n",
       "      <td>Boeing Field</td>\n",
       "    </tr>\n",
       "    <tr>\n",
       "      <th>2</th>\n",
       "      <td>727976-24217</td>\n",
       "      <td>Bellingham Airport</td>\n",
       "    </tr>\n",
       "    <tr>\n",
       "      <th>3</th>\n",
       "      <td>720749-24255</td>\n",
       "      <td>Whidbey Airport</td>\n",
       "    </tr>\n",
       "    <tr>\n",
       "      <th>4</th>\n",
       "      <td>727923-94225</td>\n",
       "      <td>Hoquiam Airport</td>\n",
       "    </tr>\n",
       "    <tr>\n",
       "      <th>5</th>\n",
       "      <td>727970-94240</td>\n",
       "      <td>Quillayute Airport</td>\n",
       "    </tr>\n",
       "    <tr>\n",
       "      <th>6</th>\n",
       "      <td>727930-24233</td>\n",
       "      <td>Seatac Airport</td>\n",
       "    </tr>\n",
       "    <tr>\n",
       "      <th>7</th>\n",
       "      <td>727920-24227</td>\n",
       "      <td>Olympia Airport</td>\n",
       "    </tr>\n",
       "    <tr>\n",
       "      <th>8</th>\n",
       "      <td>727925-94227</td>\n",
       "      <td>Shelton Airport</td>\n",
       "    </tr>\n",
       "    <tr>\n",
       "      <th>10</th>\n",
       "      <td>727938-94274</td>\n",
       "      <td>Tacoma Narrows Airport</td>\n",
       "    </tr>\n",
       "    <tr>\n",
       "      <th>11</th>\n",
       "      <td>727928-94263</td>\n",
       "      <td>Bremerton Airport</td>\n",
       "    </tr>\n",
       "    <tr>\n",
       "      <th>12</th>\n",
       "      <td>727937-24222</td>\n",
       "      <td>Everett Snohomish Airport</td>\n",
       "    </tr>\n",
       "    <tr>\n",
       "      <th>14</th>\n",
       "      <td>994350-99999</td>\n",
       "      <td>West Point</td>\n",
       "    </tr>\n",
       "    <tr>\n",
       "      <th>17</th>\n",
       "      <td>722208-04224</td>\n",
       "      <td>Orcas Island</td>\n",
       "    </tr>\n",
       "    <tr>\n",
       "      <th>18</th>\n",
       "      <td>717850-99999</td>\n",
       "      <td>White Rock (BC)</td>\n",
       "    </tr>\n",
       "    <tr>\n",
       "      <th>19</th>\n",
       "      <td>714730-99999</td>\n",
       "      <td>Saturna Island</td>\n",
       "    </tr>\n",
       "    <tr>\n",
       "      <th>20</th>\n",
       "      <td>719140-99999</td>\n",
       "      <td>Saturna Capmon</td>\n",
       "    </tr>\n",
       "    <tr>\n",
       "      <th>21</th>\n",
       "      <td>714735-99999</td>\n",
       "      <td>Victoria Harbor (BC)</td>\n",
       "    </tr>\n",
       "  </tbody>\n",
       "</table>\n",
       "</div>"
      ],
      "text/plain": [
       "      ISD number                       Name\n",
       "0   727935-24234               Boeing Field\n",
       "2   727976-24217         Bellingham Airport\n",
       "3   720749-24255            Whidbey Airport\n",
       "4   727923-94225            Hoquiam Airport\n",
       "5   727970-94240         Quillayute Airport\n",
       "6   727930-24233             Seatac Airport\n",
       "7   727920-24227            Olympia Airport\n",
       "8   727925-94227            Shelton Airport\n",
       "10  727938-94274     Tacoma Narrows Airport\n",
       "11  727928-94263          Bremerton Airport\n",
       "12  727937-24222  Everett Snohomish Airport\n",
       "14  994350-99999                 West Point\n",
       "17  722208-04224               Orcas Island\n",
       "18  717850-99999            White Rock (BC)\n",
       "19  714730-99999             Saturna Island\n",
       "20  719140-99999             Saturna Capmon\n",
       "21  714735-99999       Victoria Harbor (BC)"
      ]
     },
     "execution_count": 19,
     "metadata": {},
     "output_type": "execute_result"
    }
   ],
   "source": [
    "stationids_2010 = all_since_1980.loc[all_since_1980['date'].dt.year == 2010, 'station_id'].unique()\n",
    "stations.loc[stations['ISD number'].isin(stationids_2010)]"
   ]
  },
  {
   "cell_type": "markdown",
   "metadata": {},
   "source": [
    "Do all of those stations have data up to the last year we fetched?"
   ]
  },
  {
   "cell_type": "code",
   "execution_count": 20,
   "metadata": {},
   "outputs": [
    {
     "data": {
      "text/plain": [
       "[Text(0, 0.5, 'Observations per month'),\n",
       " (2005, 2022.9625),\n",
       " Text(0.5, 0, 'Date'),\n",
       " Text(0.5, 1.0, 'Wind Speed observations per month for all active stations as of 1990')]"
      ]
     },
     "execution_count": 20,
     "metadata": {},
     "output_type": "execute_result"
    },
    {
     "data": {
      "image/png": "[encoded data removed]",
      "text/plain": [
       "<Figure size 432x288 with 1 Axes>"
      ]
     },
     "metadata": {
      "needs_background": "light"
     },
     "output_type": "display_data"
    }
   ],
   "source": [
    "years = all_since_1980['date'].dt.year.sort_values().unique()\n",
    "recentdense_data = all_since_1980.loc[all_since_1980['station_id'].isin(stationids_2010),\n",
    "                                      ['station_id','date','wind_speed','wind_dir']].dropna(thresh=2)\n",
    "recentdense_data['yearmonth'] = recentdense_data['date'].dt.year + (recentdense_data['date'].dt.month - 1) / 12\n",
    "counts = recentdense_data.groupby(['station_id','yearmonth']).count()\n",
    "fig, ax = plt.subplots()\n",
    "# The default matplotlib color cycler only has ten colors, so after ten plots\n",
    "# change the linestyle to dashed\n",
    "i = 0\n",
    "ls = '-'\n",
    "for name,group in counts.groupby(level=0):\n",
    "    i += 1\n",
    "    ax.plot(group.index.get_level_values(1).to_numpy(), group['wind_speed'].to_numpy(), ls, label=name)\n",
    "    if i % 10 == 0:\n",
    "        ls = '--'\n",
    "ax.legend(bbox_to_anchor=(1.05, 1))\n",
    "ax.set(title=\"Wind Speed observations per month for all active stations as of 1990\", ylabel=\"Observations per month\", xlabel=\"Date\", xlim=(2005,None))"
   ]
  },
  {
   "cell_type": "markdown",
   "metadata": {},
   "source": [
    "Similar to the longrun data, we can visually identify the need to exclude 714730-99999. 719140-99999 (Saturna Capmon) looks like it has lots of small gaps but it's probably okay to keep it. The best year to start this part of the analysis looks to be 2008."
   ]
  },
  {
   "cell_type": "code",
   "execution_count": 21,
   "metadata": {},
   "outputs": [
    {
     "data": {
      "text/plain": [
       "array(['727928-94263', '727976-24217', '720749-24255', '717850-99999',\n",
       "       '727938-94274', '727937-24222', '727923-94225', '714735-99999',\n",
       "       '994350-99999', '727970-94240', '719140-99999', '727935-24234',\n",
       "       '727925-94227', '727920-24227', '727930-24233', '722208-04224'],\n",
       "      dtype=object)"
      ]
     },
     "execution_count": 21,
     "metadata": {},
     "output_type": "execute_result"
    }
   ],
   "source": [
    "recentdense_stationids = stationids_2010[stationids_2010 != '714730-99999']\n",
    "recentdense_stationids"
   ]
  },
  {
   "cell_type": "markdown",
   "metadata": {},
   "source": [
    "Save a CSV of the recent/dense station IDs."
   ]
  },
  {
   "cell_type": "code",
   "execution_count": 22,
   "metadata": {},
   "outputs": [],
   "source": [
    "recentdense_stations = stations.loc[stations['ISD number'].isin(recentdense_stationids)]\n",
    "recentdense_stations.to_csv('met_stations_recentdense.csv', index=False)"
   ]
  },
  {
   "cell_type": "markdown",
   "metadata": {},
   "source": [
    "Filter the recent/dense dataset according to the above paramters and save to a file for analysis."
   ]
  },
  {
   "cell_type": "code",
   "execution_count": 23,
   "metadata": {},
   "outputs": [],
   "source": [
    "recentdense = all_since_1980.loc[(all_since_1980['date'].dt.year >= 2008) & all_since_1980['station_id'].isin(recentdense_stationids)]\n",
    "\n",
    "recentdense.to_hdf('data/climate_data_recentdense2008.h5', 'recentdense',\n",
    "                      index=False, format='t', complib='zlib', complevel=9)"
   ]
  },
  {
   "cell_type": "code",
   "execution_count": null,
   "metadata": {},
   "outputs": [],
   "source": []
  }
 ],
 "metadata": {
  "kernelspec": {
   "display_name": "Python 3",
   "language": "python",
   "name": "python3"
  },
  "language_info": {
   "codemirror_mode": {
    "name": "ipython",
    "version": 3
   },
   "file_extension": ".py",
   "mimetype": "text/x-python",
   "name": "python",
   "nbconvert_exporter": "python",
   "pygments_lexer": "ipython3",
   "version": "3.8.5"
  }
 },
 "nbformat": 4,
 "nbformat_minor": 4
}
